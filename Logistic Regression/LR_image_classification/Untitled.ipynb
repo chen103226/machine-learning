{
 "cells": [
  {
   "cell_type": "code",
   "execution_count": 10,
   "metadata": {},
   "outputs": [
    {
     "name": "stdout",
     "output_type": "stream",
     "text": [
      "[[  5.79872775e-01  -8.24195222e-01  -2.04741085e-01   7.09194713e-01\n",
      "    1.00285339e-01   2.13059562e-01  -7.29375281e-01   2.37732418e+00\n",
      "   -1.03886175e+00   8.35630852e-01   1.44923866e+00  -2.40165792e+00\n",
      "    7.31553513e-02  -1.75193851e+00   1.02671021e+00  -1.87185924e+00\n",
      "   -2.60252920e-01   4.32118951e-02   4.17885131e-01  -3.93455906e-01\n",
      "    1.42393272e+00  -1.59775825e+00  -2.31472966e-01  -8.30305593e-01\n",
      "   -1.90442606e-03   2.82545643e-01   4.28877870e-01   1.01951921e+00\n",
      "    1.29484936e+00  -6.09384148e-01  -4.63945616e-01  -4.65952990e-01\n",
      "   -6.76461161e-02  -5.68614512e-01  -3.62572758e-01   2.77868322e-03\n",
      "   -9.94751441e-01   3.94654251e-01  -1.52289947e+00   8.20376327e-01\n",
      "    1.21092322e-01  -1.39603727e-01  -9.82247037e-01  -9.21202054e-02\n",
      "    8.64312301e-01  -2.13402122e+00   1.24766884e+00   1.08555172e+00\n",
      "    2.59538445e-02  -1.42411477e+00   6.18826911e-01   2.21664201e-01\n",
      "    8.87035971e-01   8.76679142e-02  -1.50980618e+00  -1.64271505e+00\n",
      "   -1.15710599e+00   7.84916803e-01   4.90375484e-01   9.58143925e-01]]\n",
      "[  5.79872775e-01  -8.24195222e-01  -2.04741085e-01   7.09194713e-01\n",
      "   1.00285339e-01   2.13059562e-01  -7.29375281e-01   2.37732418e+00\n",
      "  -1.03886175e+00   8.35630852e-01   1.44923866e+00  -2.40165792e+00\n",
      "   7.31553513e-02  -1.75193851e+00   1.02671021e+00  -1.87185924e+00\n",
      "  -2.60252920e-01   4.32118951e-02   4.17885131e-01  -3.93455906e-01\n",
      "   1.42393272e+00  -1.59775825e+00  -2.31472966e-01  -8.30305593e-01\n",
      "  -1.90442606e-03   2.82545643e-01   4.28877870e-01   1.01951921e+00\n",
      "   1.29484936e+00  -6.09384148e-01  -4.63945616e-01  -4.65952990e-01\n",
      "  -6.76461161e-02  -5.68614512e-01  -3.62572758e-01   2.77868322e-03\n",
      "  -9.94751441e-01   3.94654251e-01  -1.52289947e+00   8.20376327e-01\n",
      "   1.21092322e-01  -1.39603727e-01  -9.82247037e-01  -9.21202054e-02\n",
      "   8.64312301e-01  -2.13402122e+00   1.24766884e+00   1.08555172e+00\n",
      "   2.59538445e-02  -1.42411477e+00   6.18826911e-01   2.21664201e-01\n",
      "   8.87035971e-01   8.76679142e-02  -1.50980618e+00  -1.64271505e+00\n",
      "  -1.15710599e+00   7.84916803e-01   4.90375484e-01   9.58143925e-01]\n"
     ]
    }
   ],
   "source": [
    "import numpy as np\n",
    "a = np.random.randn(1,60)\n",
    "\n",
    "b = np.squeeze(a)\n",
    "print( a)\n",
    "print(b)"
   ]
  },
  {
   "cell_type": "code",
   "execution_count": 2,
   "metadata": {},
   "outputs": [
    {
     "name": "stdout",
     "output_type": "stream",
     "text": [
      "[[0 5 1]]\n",
      "[[3]\n",
      " [2]\n",
      " [1]]\n",
      "[[11]]\n"
     ]
    }
   ],
   "source": [
    "m = np.random.randint(10,size=(1,3))\n",
    "print(m)\n",
    "n = np.random.randint(5,size = (3,1))\n",
    "print(n)\n",
    "print(np.dot(m,n))"
   ]
  },
  {
   "cell_type": "code",
   "execution_count": 20,
   "metadata": {},
   "outputs": [
    {
     "name": "stdout",
     "output_type": "stream",
     "text": [
      "[[ 0  2 10]\n",
      " [ 0  0  0]\n",
      " [ 0  0  0]]\n"
     ]
    }
   ],
   "source": [
    "print(m*n)"
   ]
  },
  {
   "cell_type": "code",
   "execution_count": 5,
   "metadata": {},
   "outputs": [
    {
     "name": "stdout",
     "output_type": "stream",
     "text": [
      "5\n"
     ]
    }
   ],
   "source": [
    "print(m[0,1])"
   ]
  },
  {
   "cell_type": "markdown",
   "metadata": {},
   "source": [
    "### "
   ]
  },
  {
   "cell_type": "code",
   "execution_count": 27,
   "metadata": {},
   "outputs": [
    {
     "ename": "IndexError",
     "evalue": "list index out of range",
     "output_type": "error",
     "traceback": [
      "\u001b[1;31m---------------------------------------------------------------------------\u001b[0m",
      "\u001b[1;31mIndexError\u001b[0m                                Traceback (most recent call last)",
      "\u001b[1;32m<ipython-input-27-5cda2c151161>\u001b[0m in \u001b[0;36m<module>\u001b[1;34m()\u001b[0m\n\u001b[0;32m      5\u001b[0m \u001b[1;33m\u001b[0m\u001b[0m\n\u001b[0;32m      6\u001b[0m \u001b[0mmyweb\u001b[0m \u001b[1;33m=\u001b[0m \u001b[0mrq\u001b[0m\u001b[1;33m.\u001b[0m\u001b[0mget\u001b[0m\u001b[1;33m(\u001b[0m\u001b[0murl\u001b[0m\u001b[1;33m)\u001b[0m\u001b[1;33m\u001b[0m\u001b[0m\n\u001b[1;32m----> 7\u001b[1;33m \u001b[0mmyjson\u001b[0m \u001b[1;33m=\u001b[0m \u001b[0mre\u001b[0m\u001b[1;33m.\u001b[0m\u001b[0mfindall\u001b[0m\u001b[1;33m(\u001b[0m\u001b[1;34m'\\\"rateList\\\":(\\[.*?\\])\\,\\\"tags\\\"'\u001b[0m\u001b[1;33m,\u001b[0m\u001b[0mmyweb\u001b[0m\u001b[1;33m.\u001b[0m\u001b[0mtext\u001b[0m\u001b[1;33m)\u001b[0m\u001b[1;33m[\u001b[0m\u001b[1;36m0\u001b[0m\u001b[1;33m]\u001b[0m\u001b[1;33m\u001b[0m\u001b[0m\n\u001b[0m\u001b[0;32m      8\u001b[0m \u001b[1;33m\u001b[0m\u001b[0m\n\u001b[0;32m      9\u001b[0m \u001b[0mmytable\u001b[0m \u001b[1;33m=\u001b[0m \u001b[0mpd\u001b[0m\u001b[1;33m.\u001b[0m\u001b[0mread_json\u001b[0m\u001b[1;33m(\u001b[0m\u001b[0mmyjson\u001b[0m\u001b[1;33m)\u001b[0m\u001b[1;33m\u001b[0m\u001b[0m\n",
      "\u001b[1;31mIndexError\u001b[0m: list index out of range"
     ]
    }
   ],
   "source": [
    "import requests as rq\n",
    "import re\n",
    "import pandas as pd\n",
    "url='http://rate.tmall.com/list_detail_rate.htm?itemId=41464129793&sellerId=1652490016¤tPage=1'\n",
    "\n",
    "myweb = rq.get(url)\n",
    "myjson = re.findall('\\\"rateList\\\":(\\[.*?\\])\\,\\\"tags\\\"',myweb.text)[0]\n",
    "\n",
    "mytable = pd.read_json(myjson)\n",
    "mytable.to_csv('mytable.txt')\n",
    "\n",
    "mytable.to_excel('mytable.xls')"
   ]
  },
  {
   "cell_type": "code",
   "execution_count": null,
   "metadata": {
    "collapsed": true
   },
   "outputs": [],
   "source": []
  }
 ],
 "metadata": {
  "kernelspec": {
   "display_name": "Python 3",
   "language": "python",
   "name": "python3"
  },
  "language_info": {
   "codemirror_mode": {
    "name": "ipython",
    "version": 3
   },
   "file_extension": ".py",
   "mimetype": "text/x-python",
   "name": "python",
   "nbconvert_exporter": "python",
   "pygments_lexer": "ipython3",
   "version": "3.5.4"
  }
 },
 "nbformat": 4,
 "nbformat_minor": 2
}
